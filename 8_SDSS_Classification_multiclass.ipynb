{
 "cells": [
  {
   "cell_type": "raw",
   "metadata": {
    "id": "T0ExKNrmQwxy"
   },
   "source": []
  },
  {
   "cell_type": "code",
   "execution_count": 1,
   "metadata": {},
   "outputs": [],
   "source": [
    "import warnings\n",
    "warnings.filterwarnings(\"ignore\")"
   ]
  },
  {
   "cell_type": "code",
   "execution_count": 2,
   "metadata": {},
   "outputs": [],
   "source": [
    "import numpy as np\n",
    "import seaborn as sns \n",
    "import matplotlib.pyplot as plt"
   ]
  },
  {
   "cell_type": "code",
   "execution_count": 3,
   "metadata": {
    "id": "PrpmlSpmQwyB",
    "outputId": "7433e2ae-30fe-4579-8dff-4de0138d28ee"
   },
   "outputs": [],
   "source": [
    "import pandas as pd"
   ]
  },
  {
   "cell_type": "code",
   "execution_count": 4,
   "metadata": {},
   "outputs": [],
   "source": [
    "from sklearn.multiclass import OneVsRestClassifier"
   ]
  },
  {
   "cell_type": "code",
   "execution_count": 5,
   "metadata": {},
   "outputs": [],
   "source": [
    "from sklearn.metrics import accuracy_score"
   ]
  },
  {
   "cell_type": "code",
   "execution_count": 6,
   "metadata": {},
   "outputs": [],
   "source": [
    "from sklearn.metrics import classification_report"
   ]
  },
  {
   "cell_type": "code",
   "execution_count": 7,
   "metadata": {},
   "outputs": [],
   "source": [
    "pd.set_option('display.max_columns', None)"
   ]
  },
  {
   "cell_type": "code",
   "execution_count": 8,
   "metadata": {},
   "outputs": [],
   "source": [
    "pd.set_option(\"max_rows\", None)"
   ]
  },
  {
   "cell_type": "code",
   "execution_count": 9,
   "metadata": {},
   "outputs": [],
   "source": [
    "df=pd.read_csv(\"Skyserver.csv\")"
   ]
  },
  {
   "cell_type": "markdown",
   "metadata": {},
   "source": [
    "# Check The Correlation"
   ]
  },
  {
   "cell_type": "code",
   "execution_count": 10,
   "metadata": {
    "id": "MeJnOesTQwyE",
    "outputId": "829ebc93-639c-4d96-a7d1-7e2e0c263cb8",
    "scrolled": false
   },
   "outputs": [
    {
     "name": "stdout",
     "output_type": "stream",
     "text": [
      "Your selected dataframe has 18 columns and 10000 Rows.\n",
      "\n"
     ]
    },
    {
     "data": {
      "text/html": [
       "<div>\n",
       "<style scoped>\n",
       "    .dataframe tbody tr th:only-of-type {\n",
       "        vertical-align: middle;\n",
       "    }\n",
       "\n",
       "    .dataframe tbody tr th {\n",
       "        vertical-align: top;\n",
       "    }\n",
       "\n",
       "    .dataframe thead th {\n",
       "        text-align: right;\n",
       "    }\n",
       "</style>\n",
       "<table border=\"1\" class=\"dataframe\">\n",
       "  <thead>\n",
       "    <tr style=\"text-align: right;\">\n",
       "      <th></th>\n",
       "      <th>Zero Values</th>\n",
       "      <th>Missing Values</th>\n",
       "      <th>% of Total Missing Values</th>\n",
       "      <th>Attributes</th>\n",
       "      <th>Data Type</th>\n",
       "    </tr>\n",
       "  </thead>\n",
       "  <tbody>\n",
       "    <tr>\n",
       "      <th>dec</th>\n",
       "      <td>0</td>\n",
       "      <td>0</td>\n",
       "      <td>0.0</td>\n",
       "      <td>10000</td>\n",
       "      <td>float64</td>\n",
       "    </tr>\n",
       "    <tr>\n",
       "      <th>ra</th>\n",
       "      <td>0</td>\n",
       "      <td>0</td>\n",
       "      <td>0.0</td>\n",
       "      <td>10000</td>\n",
       "      <td>float64</td>\n",
       "    </tr>\n",
       "    <tr>\n",
       "      <th>z</th>\n",
       "      <td>0</td>\n",
       "      <td>0</td>\n",
       "      <td>0.0</td>\n",
       "      <td>9896</td>\n",
       "      <td>float64</td>\n",
       "    </tr>\n",
       "    <tr>\n",
       "      <th>i</th>\n",
       "      <td>0</td>\n",
       "      <td>0</td>\n",
       "      <td>0.0</td>\n",
       "      <td>9890</td>\n",
       "      <td>float64</td>\n",
       "    </tr>\n",
       "    <tr>\n",
       "      <th>r</th>\n",
       "      <td>0</td>\n",
       "      <td>0</td>\n",
       "      <td>0.0</td>\n",
       "      <td>9852</td>\n",
       "      <td>float64</td>\n",
       "    </tr>\n",
       "    <tr>\n",
       "      <th>g</th>\n",
       "      <td>0</td>\n",
       "      <td>0</td>\n",
       "      <td>0.0</td>\n",
       "      <td>9817</td>\n",
       "      <td>float64</td>\n",
       "    </tr>\n",
       "    <tr>\n",
       "      <th>u</th>\n",
       "      <td>0</td>\n",
       "      <td>0</td>\n",
       "      <td>0.0</td>\n",
       "      <td>9730</td>\n",
       "      <td>float64</td>\n",
       "    </tr>\n",
       "    <tr>\n",
       "      <th>redshift</th>\n",
       "      <td>19</td>\n",
       "      <td>0</td>\n",
       "      <td>0.0</td>\n",
       "      <td>9637</td>\n",
       "      <td>float64</td>\n",
       "    </tr>\n",
       "    <tr>\n",
       "      <th>specobjid</th>\n",
       "      <td>0</td>\n",
       "      <td>0</td>\n",
       "      <td>0.0</td>\n",
       "      <td>6349</td>\n",
       "      <td>float64</td>\n",
       "    </tr>\n",
       "    <tr>\n",
       "      <th>fiberid</th>\n",
       "      <td>0</td>\n",
       "      <td>0</td>\n",
       "      <td>0.0</td>\n",
       "      <td>892</td>\n",
       "      <td>int64</td>\n",
       "    </tr>\n",
       "    <tr>\n",
       "      <th>field</th>\n",
       "      <td>0</td>\n",
       "      <td>0</td>\n",
       "      <td>0.0</td>\n",
       "      <td>703</td>\n",
       "      <td>int64</td>\n",
       "    </tr>\n",
       "    <tr>\n",
       "      <th>plate</th>\n",
       "      <td>0</td>\n",
       "      <td>0</td>\n",
       "      <td>0.0</td>\n",
       "      <td>487</td>\n",
       "      <td>int64</td>\n",
       "    </tr>\n",
       "    <tr>\n",
       "      <th>mjd</th>\n",
       "      <td>0</td>\n",
       "      <td>0</td>\n",
       "      <td>0.0</td>\n",
       "      <td>355</td>\n",
       "      <td>int64</td>\n",
       "    </tr>\n",
       "    <tr>\n",
       "      <th>run</th>\n",
       "      <td>0</td>\n",
       "      <td>0</td>\n",
       "      <td>0.0</td>\n",
       "      <td>23</td>\n",
       "      <td>int64</td>\n",
       "    </tr>\n",
       "    <tr>\n",
       "      <th>camcol</th>\n",
       "      <td>0</td>\n",
       "      <td>0</td>\n",
       "      <td>0.0</td>\n",
       "      <td>6</td>\n",
       "      <td>int64</td>\n",
       "    </tr>\n",
       "    <tr>\n",
       "      <th>class</th>\n",
       "      <td>0</td>\n",
       "      <td>0</td>\n",
       "      <td>0.0</td>\n",
       "      <td>3</td>\n",
       "      <td>object</td>\n",
       "    </tr>\n",
       "    <tr>\n",
       "      <th>objid</th>\n",
       "      <td>0</td>\n",
       "      <td>0</td>\n",
       "      <td>0.0</td>\n",
       "      <td>1</td>\n",
       "      <td>float64</td>\n",
       "    </tr>\n",
       "    <tr>\n",
       "      <th>rerun</th>\n",
       "      <td>0</td>\n",
       "      <td>0</td>\n",
       "      <td>0.0</td>\n",
       "      <td>1</td>\n",
       "      <td>int64</td>\n",
       "    </tr>\n",
       "  </tbody>\n",
       "</table>\n",
       "</div>"
      ],
      "text/plain": [
       "           Zero Values  Missing Values  % of Total Missing Values  Attributes  \\\n",
       "dec                  0               0                        0.0       10000   \n",
       "ra                   0               0                        0.0       10000   \n",
       "z                    0               0                        0.0        9896   \n",
       "i                    0               0                        0.0        9890   \n",
       "r                    0               0                        0.0        9852   \n",
       "g                    0               0                        0.0        9817   \n",
       "u                    0               0                        0.0        9730   \n",
       "redshift            19               0                        0.0        9637   \n",
       "specobjid            0               0                        0.0        6349   \n",
       "fiberid              0               0                        0.0         892   \n",
       "field                0               0                        0.0         703   \n",
       "plate                0               0                        0.0         487   \n",
       "mjd                  0               0                        0.0         355   \n",
       "run                  0               0                        0.0          23   \n",
       "camcol               0               0                        0.0           6   \n",
       "class                0               0                        0.0           3   \n",
       "objid                0               0                        0.0           1   \n",
       "rerun                0               0                        0.0           1   \n",
       "\n",
       "          Data Type  \n",
       "dec         float64  \n",
       "ra          float64  \n",
       "z           float64  \n",
       "i           float64  \n",
       "r           float64  \n",
       "g           float64  \n",
       "u           float64  \n",
       "redshift    float64  \n",
       "specobjid   float64  \n",
       "fiberid       int64  \n",
       "field         int64  \n",
       "plate         int64  \n",
       "mjd           int64  \n",
       "run           int64  \n",
       "camcol        int64  \n",
       "class        object  \n",
       "objid       float64  \n",
       "rerun         int64  "
      ]
     },
     "execution_count": 10,
     "metadata": {},
     "output_type": "execute_result"
    }
   ],
   "source": [
    "def missing_values_table(df):\n",
    "        zero_val = (df == 0.00).astype(int).sum(axis=0)\n",
    "        mis_val = df.isnull().sum()\n",
    "        mis_val_percent = 100 * df.isnull().sum() / len(df)\n",
    "        \n",
    "        mz_table = pd.concat([zero_val, mis_val, mis_val_percent], axis=1)\n",
    "        mz_table = mz_table.rename(columns = {0 : 'Zero Values', 1 : 'Missing Values', 2 : '% of Total Missing Values'})\n",
    "        mz_table['Attributes'] = df.nunique()\n",
    "        mz_table['Data Type'] = df.dtypes\n",
    "        \n",
    "        mz_table = mz_table.sort_values('Attributes', ascending=False).round(1)\n",
    "        \n",
    "        print (\"Your selected dataframe has \" + str(df.shape[1]) + \" columns and \" + str(df.shape[0]) + \" Rows.\\n\"      \n",
    "               )\n",
    "\n",
    "        return mz_table\n",
    "\n",
    "missing_values_table(df)"
   ]
  },
  {
   "cell_type": "code",
   "execution_count": 11,
   "metadata": {},
   "outputs": [
    {
     "name": "stdout",
     "output_type": "stream",
     "text": [
      "************************************** class ******************************************\n",
      "\n",
      "No. of unique attributes: 3\n",
      "\n",
      "No. of unique attributes: ['STAR' 'GALAXY' 'QSO']\n",
      "\n"
     ]
    }
   ],
   "source": [
    "for col in df.columns:\n",
    "    if df[col].dtype==\"object\":\n",
    "        print('**************************************',col,'******************************************')\n",
    "        print()\n",
    "        print('No. of unique attributes:',df[col].nunique())\n",
    "        print()\n",
    "        print('No. of unique attributes:',df[col].unique())\n",
    "        print()"
   ]
  },
  {
   "cell_type": "code",
   "execution_count": 15,
   "metadata": {},
   "outputs": [],
   "source": [
    "df = df.drop(['objid','rerun'],axis=1)"
   ]
  },
  {
   "cell_type": "code",
   "execution_count": 16,
   "metadata": {},
   "outputs": [],
   "source": [
    "df = df.round(2)"
   ]
  },
  {
   "cell_type": "code",
   "execution_count": 17,
   "metadata": {},
   "outputs": [
    {
     "data": {
      "text/html": [
       "<div>\n",
       "<style scoped>\n",
       "    .dataframe tbody tr th:only-of-type {\n",
       "        vertical-align: middle;\n",
       "    }\n",
       "\n",
       "    .dataframe tbody tr th {\n",
       "        vertical-align: top;\n",
       "    }\n",
       "\n",
       "    .dataframe thead th {\n",
       "        text-align: right;\n",
       "    }\n",
       "</style>\n",
       "<table border=\"1\" class=\"dataframe\">\n",
       "  <thead>\n",
       "    <tr style=\"text-align: right;\">\n",
       "      <th></th>\n",
       "      <th>ra</th>\n",
       "      <th>dec</th>\n",
       "      <th>u</th>\n",
       "      <th>g</th>\n",
       "      <th>r</th>\n",
       "      <th>i</th>\n",
       "      <th>z</th>\n",
       "      <th>run</th>\n",
       "      <th>camcol</th>\n",
       "      <th>field</th>\n",
       "      <th>specobjid</th>\n",
       "      <th>class</th>\n",
       "      <th>redshift</th>\n",
       "      <th>plate</th>\n",
       "      <th>mjd</th>\n",
       "      <th>fiberid</th>\n",
       "    </tr>\n",
       "  </thead>\n",
       "  <tbody>\n",
       "    <tr>\n",
       "      <th>0</th>\n",
       "      <td>183.53</td>\n",
       "      <td>0.09</td>\n",
       "      <td>19.47</td>\n",
       "      <td>17.04</td>\n",
       "      <td>15.95</td>\n",
       "      <td>15.50</td>\n",
       "      <td>15.23</td>\n",
       "      <td>752</td>\n",
       "      <td>4</td>\n",
       "      <td>267</td>\n",
       "      <td>3.722360e+18</td>\n",
       "      <td>STAR</td>\n",
       "      <td>-0.00</td>\n",
       "      <td>3306</td>\n",
       "      <td>54922</td>\n",
       "      <td>491</td>\n",
       "    </tr>\n",
       "    <tr>\n",
       "      <th>1</th>\n",
       "      <td>183.60</td>\n",
       "      <td>0.14</td>\n",
       "      <td>18.66</td>\n",
       "      <td>17.21</td>\n",
       "      <td>16.68</td>\n",
       "      <td>16.49</td>\n",
       "      <td>16.39</td>\n",
       "      <td>752</td>\n",
       "      <td>4</td>\n",
       "      <td>267</td>\n",
       "      <td>3.638140e+17</td>\n",
       "      <td>STAR</td>\n",
       "      <td>-0.00</td>\n",
       "      <td>323</td>\n",
       "      <td>51615</td>\n",
       "      <td>541</td>\n",
       "    </tr>\n",
       "    <tr>\n",
       "      <th>2</th>\n",
       "      <td>183.68</td>\n",
       "      <td>0.13</td>\n",
       "      <td>19.38</td>\n",
       "      <td>18.19</td>\n",
       "      <td>17.47</td>\n",
       "      <td>17.09</td>\n",
       "      <td>16.80</td>\n",
       "      <td>752</td>\n",
       "      <td>4</td>\n",
       "      <td>268</td>\n",
       "      <td>3.232740e+17</td>\n",
       "      <td>GALAXY</td>\n",
       "      <td>0.12</td>\n",
       "      <td>287</td>\n",
       "      <td>52023</td>\n",
       "      <td>513</td>\n",
       "    </tr>\n",
       "    <tr>\n",
       "      <th>3</th>\n",
       "      <td>183.87</td>\n",
       "      <td>0.05</td>\n",
       "      <td>17.77</td>\n",
       "      <td>16.60</td>\n",
       "      <td>16.16</td>\n",
       "      <td>15.98</td>\n",
       "      <td>15.90</td>\n",
       "      <td>752</td>\n",
       "      <td>4</td>\n",
       "      <td>269</td>\n",
       "      <td>3.722370e+18</td>\n",
       "      <td>STAR</td>\n",
       "      <td>-0.00</td>\n",
       "      <td>3306</td>\n",
       "      <td>54922</td>\n",
       "      <td>510</td>\n",
       "    </tr>\n",
       "    <tr>\n",
       "      <th>4</th>\n",
       "      <td>183.88</td>\n",
       "      <td>0.10</td>\n",
       "      <td>17.55</td>\n",
       "      <td>16.26</td>\n",
       "      <td>16.44</td>\n",
       "      <td>16.55</td>\n",
       "      <td>16.61</td>\n",
       "      <td>752</td>\n",
       "      <td>4</td>\n",
       "      <td>269</td>\n",
       "      <td>3.722370e+18</td>\n",
       "      <td>STAR</td>\n",
       "      <td>0.00</td>\n",
       "      <td>3306</td>\n",
       "      <td>54922</td>\n",
       "      <td>512</td>\n",
       "    </tr>\n",
       "  </tbody>\n",
       "</table>\n",
       "</div>"
      ],
      "text/plain": [
       "       ra   dec      u      g      r      i      z  run  camcol  field  \\\n",
       "0  183.53  0.09  19.47  17.04  15.95  15.50  15.23  752       4    267   \n",
       "1  183.60  0.14  18.66  17.21  16.68  16.49  16.39  752       4    267   \n",
       "2  183.68  0.13  19.38  18.19  17.47  17.09  16.80  752       4    268   \n",
       "3  183.87  0.05  17.77  16.60  16.16  15.98  15.90  752       4    269   \n",
       "4  183.88  0.10  17.55  16.26  16.44  16.55  16.61  752       4    269   \n",
       "\n",
       "      specobjid   class  redshift  plate    mjd  fiberid  \n",
       "0  3.722360e+18    STAR     -0.00   3306  54922      491  \n",
       "1  3.638140e+17    STAR     -0.00    323  51615      541  \n",
       "2  3.232740e+17  GALAXY      0.12    287  52023      513  \n",
       "3  3.722370e+18    STAR     -0.00   3306  54922      510  \n",
       "4  3.722370e+18    STAR      0.00   3306  54922      512  "
      ]
     },
     "execution_count": 17,
     "metadata": {},
     "output_type": "execute_result"
    }
   ],
   "source": [
    "df.head()"
   ]
  },
  {
   "cell_type": "code",
   "execution_count": 39,
   "metadata": {
    "scrolled": false
   },
   "outputs": [
    {
     "name": "stdout",
     "output_type": "stream",
     "text": [
      "Your selected dataframe has 16 columns and 10000 Rows.\n",
      "\n"
     ]
    },
    {
     "data": {
      "text/html": [
       "<div>\n",
       "<style scoped>\n",
       "    .dataframe tbody tr th:only-of-type {\n",
       "        vertical-align: middle;\n",
       "    }\n",
       "\n",
       "    .dataframe tbody tr th {\n",
       "        vertical-align: top;\n",
       "    }\n",
       "\n",
       "    .dataframe thead th {\n",
       "        text-align: right;\n",
       "    }\n",
       "</style>\n",
       "<table border=\"1\" class=\"dataframe\">\n",
       "  <thead>\n",
       "    <tr style=\"text-align: right;\">\n",
       "      <th></th>\n",
       "      <th>Zero Values</th>\n",
       "      <th>Missing Values</th>\n",
       "      <th>% of Total Missing Values</th>\n",
       "      <th>Attributes</th>\n",
       "      <th>Data Type</th>\n",
       "    </tr>\n",
       "  </thead>\n",
       "  <tbody>\n",
       "    <tr>\n",
       "      <th>ra</th>\n",
       "      <td>0</td>\n",
       "      <td>0</td>\n",
       "      <td>0.0</td>\n",
       "      <td>6665</td>\n",
       "      <td>float64</td>\n",
       "    </tr>\n",
       "    <tr>\n",
       "      <th>specobjid</th>\n",
       "      <td>0</td>\n",
       "      <td>0</td>\n",
       "      <td>0.0</td>\n",
       "      <td>6349</td>\n",
       "      <td>float64</td>\n",
       "    </tr>\n",
       "    <tr>\n",
       "      <th>dec</th>\n",
       "      <td>11</td>\n",
       "      <td>0</td>\n",
       "      <td>0.0</td>\n",
       "      <td>2121</td>\n",
       "      <td>float64</td>\n",
       "    </tr>\n",
       "    <tr>\n",
       "      <th>fiberid</th>\n",
       "      <td>0</td>\n",
       "      <td>0</td>\n",
       "      <td>0.0</td>\n",
       "      <td>892</td>\n",
       "      <td>int64</td>\n",
       "    </tr>\n",
       "    <tr>\n",
       "      <th>field</th>\n",
       "      <td>0</td>\n",
       "      <td>0</td>\n",
       "      <td>0.0</td>\n",
       "      <td>703</td>\n",
       "      <td>int64</td>\n",
       "    </tr>\n",
       "    <tr>\n",
       "      <th>z</th>\n",
       "      <td>0</td>\n",
       "      <td>0</td>\n",
       "      <td>0.0</td>\n",
       "      <td>687</td>\n",
       "      <td>float64</td>\n",
       "    </tr>\n",
       "    <tr>\n",
       "      <th>i</th>\n",
       "      <td>0</td>\n",
       "      <td>0</td>\n",
       "      <td>0.0</td>\n",
       "      <td>639</td>\n",
       "      <td>float64</td>\n",
       "    </tr>\n",
       "    <tr>\n",
       "      <th>r</th>\n",
       "      <td>0</td>\n",
       "      <td>0</td>\n",
       "      <td>0.0</td>\n",
       "      <td>603</td>\n",
       "      <td>float64</td>\n",
       "    </tr>\n",
       "    <tr>\n",
       "      <th>g</th>\n",
       "      <td>0</td>\n",
       "      <td>0</td>\n",
       "      <td>0.0</td>\n",
       "      <td>539</td>\n",
       "      <td>float64</td>\n",
       "    </tr>\n",
       "    <tr>\n",
       "      <th>plate</th>\n",
       "      <td>0</td>\n",
       "      <td>0</td>\n",
       "      <td>0.0</td>\n",
       "      <td>487</td>\n",
       "      <td>int64</td>\n",
       "    </tr>\n",
       "    <tr>\n",
       "      <th>u</th>\n",
       "      <td>0</td>\n",
       "      <td>0</td>\n",
       "      <td>0.0</td>\n",
       "      <td>402</td>\n",
       "      <td>float64</td>\n",
       "    </tr>\n",
       "    <tr>\n",
       "      <th>mjd</th>\n",
       "      <td>0</td>\n",
       "      <td>0</td>\n",
       "      <td>0.0</td>\n",
       "      <td>355</td>\n",
       "      <td>int64</td>\n",
       "    </tr>\n",
       "    <tr>\n",
       "      <th>redshift</th>\n",
       "      <td>4186</td>\n",
       "      <td>0</td>\n",
       "      <td>0.0</td>\n",
       "      <td>250</td>\n",
       "      <td>float64</td>\n",
       "    </tr>\n",
       "    <tr>\n",
       "      <th>run</th>\n",
       "      <td>0</td>\n",
       "      <td>0</td>\n",
       "      <td>0.0</td>\n",
       "      <td>23</td>\n",
       "      <td>int64</td>\n",
       "    </tr>\n",
       "    <tr>\n",
       "      <th>camcol</th>\n",
       "      <td>0</td>\n",
       "      <td>0</td>\n",
       "      <td>0.0</td>\n",
       "      <td>6</td>\n",
       "      <td>int64</td>\n",
       "    </tr>\n",
       "    <tr>\n",
       "      <th>class</th>\n",
       "      <td>0</td>\n",
       "      <td>0</td>\n",
       "      <td>0.0</td>\n",
       "      <td>3</td>\n",
       "      <td>object</td>\n",
       "    </tr>\n",
       "  </tbody>\n",
       "</table>\n",
       "</div>"
      ],
      "text/plain": [
       "           Zero Values  Missing Values  % of Total Missing Values  Attributes  \\\n",
       "ra                   0               0                        0.0        6665   \n",
       "specobjid            0               0                        0.0        6349   \n",
       "dec                 11               0                        0.0        2121   \n",
       "fiberid              0               0                        0.0         892   \n",
       "field                0               0                        0.0         703   \n",
       "z                    0               0                        0.0         687   \n",
       "i                    0               0                        0.0         639   \n",
       "r                    0               0                        0.0         603   \n",
       "g                    0               0                        0.0         539   \n",
       "plate                0               0                        0.0         487   \n",
       "u                    0               0                        0.0         402   \n",
       "mjd                  0               0                        0.0         355   \n",
       "redshift          4186               0                        0.0         250   \n",
       "run                  0               0                        0.0          23   \n",
       "camcol               0               0                        0.0           6   \n",
       "class                0               0                        0.0           3   \n",
       "\n",
       "          Data Type  \n",
       "ra          float64  \n",
       "specobjid   float64  \n",
       "dec         float64  \n",
       "fiberid       int64  \n",
       "field         int64  \n",
       "z           float64  \n",
       "i           float64  \n",
       "r           float64  \n",
       "g           float64  \n",
       "plate         int64  \n",
       "u           float64  \n",
       "mjd           int64  \n",
       "redshift    float64  \n",
       "run           int64  \n",
       "camcol        int64  \n",
       "class        object  "
      ]
     },
     "execution_count": 39,
     "metadata": {},
     "output_type": "execute_result"
    }
   ],
   "source": [
    "def missing_values_table(df):\n",
    "        zero_val = (df == 0.00).astype(int).sum(axis=0)\n",
    "        mis_val = df.isnull().sum()\n",
    "        mis_val_percent = 100 * df.isnull().sum() / len(df)\n",
    "        \n",
    "        mz_table = pd.concat([zero_val, mis_val, mis_val_percent], axis=1)\n",
    "        mz_table = mz_table.rename(columns = {0 : 'Zero Values', 1 : 'Missing Values', 2 : '% of Total Missing Values'})\n",
    "        mz_table['Attributes'] = df.nunique()\n",
    "        mz_table['Data Type'] = df.dtypes\n",
    "        \n",
    "        mz_table = mz_table.sort_values('Attributes', ascending=False).round(1)\n",
    "        \n",
    "        print (\"Your selected dataframe has \" + str(df.shape[1]) + \" columns and \" + str(df.shape[0]) + \" Rows.\\n\"      \n",
    "               )\n",
    "\n",
    "        return mz_table\n",
    "\n",
    "missing_values_table(df)"
   ]
  },
  {
   "cell_type": "markdown",
   "metadata": {},
   "source": [
    "# Assign THe Values (Input & Output)"
   ]
  },
  {
   "cell_type": "code",
   "execution_count": 18,
   "metadata": {},
   "outputs": [
    {
     "data": {
      "text/plain": [
       "Index(['ra', 'dec', 'u', 'g', 'r', 'i', 'z', 'run', 'camcol', 'field',\n",
       "       'specobjid', 'class', 'redshift', 'plate', 'mjd', 'fiberid'],\n",
       "      dtype='object')"
      ]
     },
     "execution_count": 18,
     "metadata": {},
     "output_type": "execute_result"
    }
   ],
   "source": [
    "df.columns"
   ]
  },
  {
   "cell_type": "code",
   "execution_count": 19,
   "metadata": {
    "id": "aUhZ9nm4QwyL",
    "scrolled": true
   },
   "outputs": [],
   "source": [
    "df_x = df.drop(['class'],axis=1)\n",
    "y = df['class']"
   ]
  },
  {
   "cell_type": "code",
   "execution_count": 20,
   "metadata": {},
   "outputs": [
    {
     "data": {
      "text/plain": [
       "(10000, 15)"
      ]
     },
     "execution_count": 20,
     "metadata": {},
     "output_type": "execute_result"
    }
   ],
   "source": [
    "df_x.shape"
   ]
  },
  {
   "cell_type": "code",
   "execution_count": 21,
   "metadata": {},
   "outputs": [
    {
     "data": {
      "text/plain": [
       "(10000,)"
      ]
     },
     "execution_count": 21,
     "metadata": {},
     "output_type": "execute_result"
    }
   ],
   "source": [
    "y.shape"
   ]
  },
  {
   "cell_type": "code",
   "execution_count": 22,
   "metadata": {
    "scrolled": true
   },
   "outputs": [
    {
     "data": {
      "text/plain": [
       "3"
      ]
     },
     "execution_count": 22,
     "metadata": {},
     "output_type": "execute_result"
    }
   ],
   "source": [
    "y.nunique()"
   ]
  },
  {
   "cell_type": "markdown",
   "metadata": {},
   "source": [
    "# Evaluation"
   ]
  },
  {
   "cell_type": "code",
   "execution_count": 23,
   "metadata": {},
   "outputs": [],
   "source": [
    "#Lets do standard scaling of the input variable\n",
    "from sklearn.metrics import f1_score\n",
    "from imblearn.over_sampling import SMOTE\n",
    "from sklearn.model_selection import train_test_split\n",
    "def maxf1_score(clf,df_x,y):\n",
    "    maxf=0\n",
    "    rs=0\n",
    "    for r_state in range(42,100):\n",
    "        x_train,x_test,y_train,y_test=train_test_split(df_x, y,random_state = r_state,test_size=0.20,stratify=y)\n",
    "        x_train, y_train = SMOTE().fit_resample(x_train, y_train)\n",
    "           \n",
    "        clf.fit(x_train,y_train)\n",
    "        y_pred=clf.predict(x_test)\n",
    "        tmp=f1_score(y_test,y_pred, average='micro')\n",
    "        print(\"random state :\",r_state,\" and f1 score: \",tmp)\n",
    "        if tmp>maxf:\n",
    "            maxf=tmp\n",
    "            rs=r_state\n",
    "    print()\n",
    "    print(\"x_train :\",x_train.shape[0],\" y_train :\",y_train.shape[0])\n",
    "    print()\n",
    "    print(\" y_train :\")\n",
    "    print(y_train.value_counts())\n",
    "    print()\n",
    "    print(\" y_test :\")\n",
    "    print()\n",
    "    print(y_test.value_counts())\n",
    "    print(\"x_test :\",x_test.shape,\" y_test :\",y_test.shape)\n",
    "    print(\"maximum f1_score is at random state :\",rs,\" and it is :\",maxf)"
   ]
  },
  {
   "cell_type": "markdown",
   "metadata": {},
   "source": [
    "# Decision Tree"
   ]
  },
  {
   "cell_type": "code",
   "execution_count": 24,
   "metadata": {
    "scrolled": false
   },
   "outputs": [
    {
     "name": "stdout",
     "output_type": "stream",
     "text": [
      "random state : 42  and f1 score:  0.9810000000000001\n",
      "random state : 43  and f1 score:  0.9825\n",
      "random state : 44  and f1 score:  0.9765\n",
      "random state : 45  and f1 score:  0.9805\n",
      "random state : 46  and f1 score:  0.976\n",
      "random state : 47  and f1 score:  0.984\n",
      "random state : 48  and f1 score:  0.972\n",
      "random state : 49  and f1 score:  0.977\n",
      "random state : 50  and f1 score:  0.9855\n",
      "random state : 51  and f1 score:  0.9825\n",
      "random state : 52  and f1 score:  0.978\n",
      "random state : 53  and f1 score:  0.9815\n",
      "random state : 54  and f1 score:  0.9815\n",
      "random state : 55  and f1 score:  0.9795\n",
      "random state : 56  and f1 score:  0.982\n",
      "random state : 57  and f1 score:  0.978\n",
      "random state : 58  and f1 score:  0.977\n",
      "random state : 59  and f1 score:  0.975\n",
      "random state : 60  and f1 score:  0.976\n",
      "random state : 61  and f1 score:  0.984\n",
      "random state : 62  and f1 score:  0.9735\n",
      "random state : 63  and f1 score:  0.9810000000000001\n",
      "random state : 64  and f1 score:  0.978\n",
      "random state : 65  and f1 score:  0.9810000000000001\n",
      "random state : 66  and f1 score:  0.9815\n",
      "random state : 67  and f1 score:  0.982\n",
      "random state : 68  and f1 score:  0.98\n",
      "random state : 69  and f1 score:  0.98\n",
      "random state : 70  and f1 score:  0.978\n",
      "random state : 71  and f1 score:  0.9835\n",
      "random state : 72  and f1 score:  0.98\n",
      "random state : 73  and f1 score:  0.9815\n",
      "random state : 74  and f1 score:  0.9810000000000001\n",
      "random state : 75  and f1 score:  0.9805\n",
      "random state : 76  and f1 score:  0.983\n",
      "random state : 77  and f1 score:  0.9810000000000001\n",
      "random state : 78  and f1 score:  0.98\n",
      "random state : 79  and f1 score:  0.98\n",
      "random state : 80  and f1 score:  0.977\n",
      "random state : 81  and f1 score:  0.982\n",
      "random state : 82  and f1 score:  0.9805\n",
      "random state : 83  and f1 score:  0.9795\n",
      "random state : 84  and f1 score:  0.9775\n",
      "random state : 85  and f1 score:  0.9775\n",
      "random state : 86  and f1 score:  0.98\n",
      "random state : 87  and f1 score:  0.984\n",
      "random state : 88  and f1 score:  0.9805\n",
      "random state : 89  and f1 score:  0.9795\n",
      "random state : 90  and f1 score:  0.979\n",
      "random state : 91  and f1 score:  0.9795\n",
      "random state : 92  and f1 score:  0.9785\n",
      "random state : 93  and f1 score:  0.9785\n",
      "random state : 94  and f1 score:  0.9795\n",
      "random state : 95  and f1 score:  0.9755\n",
      "random state : 96  and f1 score:  0.9855\n",
      "random state : 97  and f1 score:  0.9845\n",
      "random state : 98  and f1 score:  0.9795\n",
      "random state : 99  and f1 score:  0.9785\n",
      "\n",
      "x_train : 11994  y_train : 11994\n",
      "\n",
      " y_train :\n",
      "GALAXY    3998\n",
      "QSO       3998\n",
      "STAR      3998\n",
      "Name: class, dtype: int64\n",
      "\n",
      " y_test :\n",
      "\n",
      "GALAXY    1000\n",
      "STAR       830\n",
      "QSO        170\n",
      "Name: class, dtype: int64\n",
      "x_test : (2000, 15)  y_test : (2000,)\n",
      "maximum f1_score is at random state : 50  and it is : 0.9855\n"
     ]
    }
   ],
   "source": [
    "#lets use decision tree classifier\n",
    "from sklearn.tree import DecisionTreeClassifier\n",
    "dc=DecisionTreeClassifier()\n",
    "maxf1_score(dc,df_x,y)"
   ]
  },
  {
   "cell_type": "code",
   "execution_count": 25,
   "metadata": {},
   "outputs": [],
   "source": [
    "x_train, x_test, y_train, y_test = train_test_split(df_x, y,random_state = 50,test_size=0.20)\n",
    "y_pred_dc = dc.predict(x_test)"
   ]
  },
  {
   "cell_type": "code",
   "execution_count": 26,
   "metadata": {},
   "outputs": [],
   "source": [
    "target_names = ['class 0', 'class 1', 'class 2']"
   ]
  },
  {
   "cell_type": "code",
   "execution_count": 27,
   "metadata": {},
   "outputs": [
    {
     "data": {
      "text/plain": [
       "3"
      ]
     },
     "execution_count": 27,
     "metadata": {},
     "output_type": "execute_result"
    }
   ],
   "source": [
    "y_test.nunique()"
   ]
  },
  {
   "cell_type": "code",
   "execution_count": 28,
   "metadata": {},
   "outputs": [
    {
     "data": {
      "text/plain": [
       "GALAXY    1011\n",
       "STAR       832\n",
       "QSO        157\n",
       "Name: class, dtype: int64"
      ]
     },
     "execution_count": 28,
     "metadata": {},
     "output_type": "execute_result"
    }
   ],
   "source": [
    "y_test.value_counts()"
   ]
  },
  {
   "cell_type": "code",
   "execution_count": 29,
   "metadata": {},
   "outputs": [
    {
     "name": "stdout",
     "output_type": "stream",
     "text": [
      "              precision    recall  f1-score   support\n",
      "\n",
      "     class 0       1.00      1.00      1.00      1011\n",
      "     class 1       0.98      1.00      0.99       157\n",
      "     class 2       1.00      1.00      1.00       832\n",
      "\n",
      "    accuracy                           1.00      2000\n",
      "   macro avg       0.99      1.00      0.99      2000\n",
      "weighted avg       1.00      1.00      1.00      2000\n",
      "\n"
     ]
    }
   ],
   "source": [
    "print(classification_report(y_test, y_pred_dc, target_names=target_names))"
   ]
  },
  {
   "cell_type": "markdown",
   "metadata": {},
   "source": [
    "# Random Forest"
   ]
  },
  {
   "cell_type": "code",
   "execution_count": 30,
   "metadata": {},
   "outputs": [
    {
     "data": {
      "text/plain": [
       "{'n_estimators': 100}"
      ]
     },
     "execution_count": 30,
     "metadata": {},
     "output_type": "execute_result"
    }
   ],
   "source": [
    "#lets chcek random forest also\n",
    "from sklearn.ensemble import RandomForestClassifier\n",
    "from sklearn.model_selection import GridSearchCV\n",
    "parameters={\"n_estimators\":[10,100,500]}\n",
    "rf_clf=RandomForestClassifier()\n",
    "clf = GridSearchCV(rf_clf, parameters, cv=10,scoring=\"accuracy\")\n",
    "clf.fit(df_x,y)\n",
    "clf.best_params_"
   ]
  },
  {
   "cell_type": "code",
   "execution_count": 31,
   "metadata": {},
   "outputs": [
    {
     "name": "stdout",
     "output_type": "stream",
     "text": [
      "random state : 42  and f1 score:  0.9895\n",
      "random state : 43  and f1 score:  0.9885\n",
      "random state : 44  and f1 score:  0.987\n",
      "random state : 45  and f1 score:  0.989\n",
      "random state : 46  and f1 score:  0.987\n",
      "random state : 47  and f1 score:  0.991\n",
      "random state : 48  and f1 score:  0.9835\n",
      "random state : 49  and f1 score:  0.988\n",
      "random state : 50  and f1 score:  0.9915\n",
      "random state : 51  and f1 score:  0.989\n",
      "random state : 52  and f1 score:  0.987\n",
      "random state : 53  and f1 score:  0.9855\n",
      "random state : 54  and f1 score:  0.9885\n",
      "random state : 55  and f1 score:  0.99\n",
      "random state : 56  and f1 score:  0.9875\n",
      "random state : 57  and f1 score:  0.989\n",
      "random state : 58  and f1 score:  0.9845\n",
      "random state : 59  and f1 score:  0.986\n",
      "random state : 60  and f1 score:  0.9905\n",
      "random state : 61  and f1 score:  0.9885\n",
      "random state : 62  and f1 score:  0.987\n",
      "random state : 63  and f1 score:  0.989\n",
      "random state : 64  and f1 score:  0.9885\n",
      "random state : 65  and f1 score:  0.9885\n",
      "random state : 66  and f1 score:  0.99\n",
      "random state : 67  and f1 score:  0.988\n",
      "random state : 68  and f1 score:  0.9865\n",
      "random state : 69  and f1 score:  0.9885\n",
      "random state : 70  and f1 score:  0.9895\n",
      "random state : 71  and f1 score:  0.9885\n",
      "random state : 72  and f1 score:  0.9905\n",
      "random state : 73  and f1 score:  0.9905\n",
      "random state : 74  and f1 score:  0.9915\n",
      "random state : 75  and f1 score:  0.986\n",
      "random state : 76  and f1 score:  0.9905\n",
      "random state : 77  and f1 score:  0.989\n",
      "random state : 78  and f1 score:  0.9925\n",
      "random state : 79  and f1 score:  0.9885\n",
      "random state : 80  and f1 score:  0.989\n",
      "random state : 81  and f1 score:  0.99\n",
      "random state : 82  and f1 score:  0.9885\n",
      "random state : 83  and f1 score:  0.988\n",
      "random state : 84  and f1 score:  0.9895\n",
      "random state : 85  and f1 score:  0.99\n",
      "random state : 86  and f1 score:  0.9875\n",
      "random state : 87  and f1 score:  0.9905\n",
      "random state : 88  and f1 score:  0.985\n",
      "random state : 89  and f1 score:  0.986\n",
      "random state : 90  and f1 score:  0.989\n",
      "random state : 91  and f1 score:  0.9885\n",
      "random state : 92  and f1 score:  0.9885\n",
      "random state : 93  and f1 score:  0.988\n",
      "random state : 94  and f1 score:  0.9875\n",
      "random state : 95  and f1 score:  0.9855\n",
      "random state : 96  and f1 score:  0.989\n",
      "random state : 97  and f1 score:  0.988\n",
      "random state : 98  and f1 score:  0.9865\n",
      "random state : 99  and f1 score:  0.9915\n",
      "\n",
      "x_train : 11994  y_train : 11994\n",
      "\n",
      " y_train :\n",
      "GALAXY    3998\n",
      "QSO       3998\n",
      "STAR      3998\n",
      "Name: class, dtype: int64\n",
      "\n",
      " y_test :\n",
      "\n",
      "GALAXY    1000\n",
      "STAR       830\n",
      "QSO        170\n",
      "Name: class, dtype: int64\n",
      "x_test : (2000, 15)  y_test : (2000,)\n",
      "maximum f1_score is at random state : 78  and it is : 0.9925\n"
     ]
    }
   ],
   "source": [
    "rf_clf=RandomForestClassifier(n_estimators=100)\n",
    "maxf1_score(rf_clf,df_x,y)"
   ]
  },
  {
   "cell_type": "code",
   "execution_count": 32,
   "metadata": {},
   "outputs": [],
   "source": [
    "x_train, x_test, y_train, y_test = train_test_split(df_x, y,random_state = 78,test_size=0.20)\n",
    "y_pred_rf = rf_clf.predict(x_test)"
   ]
  },
  {
   "cell_type": "code",
   "execution_count": 33,
   "metadata": {},
   "outputs": [],
   "source": [
    "target_names = ['class 0', 'class 1', 'class 2']"
   ]
  },
  {
   "cell_type": "code",
   "execution_count": 34,
   "metadata": {},
   "outputs": [
    {
     "data": {
      "text/plain": [
       "3"
      ]
     },
     "execution_count": 34,
     "metadata": {},
     "output_type": "execute_result"
    }
   ],
   "source": [
    "y_test.nunique()"
   ]
  },
  {
   "cell_type": "code",
   "execution_count": 35,
   "metadata": {},
   "outputs": [
    {
     "data": {
      "text/plain": [
       "GALAXY    980\n",
       "STAR      853\n",
       "QSO       167\n",
       "Name: class, dtype: int64"
      ]
     },
     "execution_count": 35,
     "metadata": {},
     "output_type": "execute_result"
    }
   ],
   "source": [
    "y_test.value_counts()"
   ]
  },
  {
   "cell_type": "code",
   "execution_count": 36,
   "metadata": {},
   "outputs": [
    {
     "name": "stdout",
     "output_type": "stream",
     "text": [
      "              precision    recall  f1-score   support\n",
      "\n",
      "     class 0       1.00      1.00      1.00       980\n",
      "     class 1       0.99      1.00      0.99       167\n",
      "     class 2       1.00      1.00      1.00       853\n",
      "\n",
      "    accuracy                           1.00      2000\n",
      "   macro avg       1.00      1.00      1.00      2000\n",
      "weighted avg       1.00      1.00      1.00      2000\n",
      "\n"
     ]
    }
   ],
   "source": [
    "print(classification_report(y_test, y_pred_rf, target_names=target_names))"
   ]
  },
  {
   "cell_type": "markdown",
   "metadata": {},
   "source": [
    "# Prediction"
   ]
  },
  {
   "cell_type": "code",
   "execution_count": 37,
   "metadata": {},
   "outputs": [],
   "source": [
    "#lets make the dataframe for price_pred\n",
    "prediction=pd.DataFrame(y_pred_rf,columns=[\"class\"])"
   ]
  },
  {
   "cell_type": "code",
   "execution_count": 38,
   "metadata": {},
   "outputs": [],
   "source": [
    "#Lets save the submission to csv\n",
    "prediction.to_csv(\"skyscaper_class_Predictions.csv\",index=False)"
   ]
  },
  {
   "cell_type": "code",
   "execution_count": null,
   "metadata": {},
   "outputs": [],
   "source": []
  }
 ],
 "metadata": {
  "colab": {
   "name": "2 PROJECT  BASEBALL.ipynb",
   "provenance": []
  },
  "kernelspec": {
   "display_name": "Python 3",
   "language": "python",
   "name": "python3"
  },
  "language_info": {
   "codemirror_mode": {
    "name": "ipython",
    "version": 3
   },
   "file_extension": ".py",
   "mimetype": "text/x-python",
   "name": "python",
   "nbconvert_exporter": "python",
   "pygments_lexer": "ipython3",
   "version": "3.8.5"
  }
 },
 "nbformat": 4,
 "nbformat_minor": 1
}
